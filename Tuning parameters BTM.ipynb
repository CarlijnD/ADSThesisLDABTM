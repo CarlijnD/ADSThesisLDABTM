{
  "nbformat": 4,
  "nbformat_minor": 0,
  "metadata": {
    "colab": {
      "provenance": []
    },
    "kernelspec": {
      "name": "python3",
      "display_name": "Python 3"
    },
    "language_info": {
      "name": "python"
    }
  },
  "cells": [
    {
      "cell_type": "markdown",
      "source": [
        "Load the data first. Make sure the preprocessing code has run in R and the csv file \"python_data.csv\" is uploaded for use in Python.\n"
      ],
      "metadata": {
        "id": "Vh62bgxdiMcI"
      }
    },
    {
      "cell_type": "code",
      "execution_count": null,
      "metadata": {
        "id": "Q3N5wLnO8Pue"
      },
      "outputs": [],
      "source": [
        "!pip install bitermplus\n",
        "\n",
        "import bitermplus as btm\n",
        "import numpy as np\n",
        "import pandas as pd\n",
        "import itertools\n",
        "from tabulate import tabulate\n",
        "\n",
        "# Importing data\n",
        "df = pd.read_csv(\n",
        "    'python_data.csv', skiprows=[0], names=['texts'])\n",
        "texts = df['texts'].str.strip().tolist()\n",
        "\n",
        "# Creating the biterms\n",
        "X, vocabulary, vocab_dict = btm.get_words_freqs(texts)\n",
        "docs_vec = btm.get_vectorized_docs(texts, vocabulary)\n",
        "biterms = btm.get_biterms(docs_vec)"
      ]
    },
    {
      "cell_type": "markdown",
      "source": [
        "We use the entropy score for optimalization of the topics K."
      ],
      "metadata": {
        "id": "q5HKyursiNz1"
      }
    },
    {
      "cell_type": "code",
      "source": [
        "# Fit the BTM model with varying values for the topics K\n",
        "K_values = [10, 15, 20, 25, 30, 35]\n",
        "\n",
        "# Perform the iterations and calculate the mean entropy\n",
        "for K in K_values:\n",
        "    entropies = []\n",
        "    for _ in range(5):  # Repeat 5 times for each K\n",
        "        # Fit the BTM model\n",
        "        model = btm.BTM(X, vocabulary, T=K, M=20)\n",
        "        model.fit(biterms, iterations=1000)\n",
        "        entropy = btm.entropy(model.matrix_topics_words_)\n",
        "        entropies.append(entropy)\n",
        "\n",
        "    mean_entropy = np.mean(entropies)\n",
        "    print(f\"K={K}, Mean Entropy: {mean_entropy}\")"
      ],
      "metadata": {
        "id": "ffo6V0XkhvV0"
      },
      "execution_count": null,
      "outputs": []
    },
    {
      "cell_type": "markdown",
      "source": [
        "Tuning the optimal alpha and beta for the BTM topic model by comparing the coherence scores. The coherence scores are measured five times and the mean is presented (because each model is different).\n",
        "\n",
        "The optimal number K as optimized above, has to be set.\n",
        "\n",
        "\n"
      ],
      "metadata": {
        "id": "ogXPuIgjlBuG"
      }
    },
    {
      "cell_type": "code",
      "source": [
        "# Define the parameter grid\n",
        "param_grid = {\n",
        "    'alpha': [0.01, 0.05, 0.1, 0.5, 3.3],\n",
        "    'beta': [0.01, 0.05, 0.1, 0.5]\n",
        "}\n",
        "\n",
        "table_data = []\n",
        "\n",
        "# Perform grid search\n",
        "for params in itertools.product(*param_grid.values()):\n",
        "    alpha, beta = params\n",
        "\n",
        "    coherence_scores = []\n",
        "\n",
        "    # Run model and compute coherence scores 5 times (optimal topic is set to 15 here)\n",
        "    for _ in range(5):\n",
        "        model = btm.BTM(X, vocabulary, T=15, M=20, alpha=alpha, beta=beta)\n",
        "        model.fit(biterms, iterations=1000)\n",
        "\n",
        "        # Compute the coherence score\n",
        "        coherence = btm.coherence(model.matrix_topics_words_, X, M=20)\n",
        "        avg_coherence = coherence.mean()\n",
        "\n",
        "        coherence_scores.append(avg_coherence)\n",
        "\n",
        "    # Calculate the mean coherence score\n",
        "    mean_coherence = sum(coherence_scores) / len(coherence_scores)\n",
        "\n",
        "    # Append parameter values and mean coherence score to the table data\n",
        "    table_data.append([alpha, beta, mean_coherence])\n",
        "\n",
        "# Print the mean coherence scores in a table\n",
        "headers = ['Alpha', 'Beta', 'Mean Coherence']\n",
        "print(tabulate(table_data, headers=headers, floatfmt=\".4f\"))"
      ],
      "metadata": {
        "id": "zVsyXHpH8rxt"
      },
      "execution_count": null,
      "outputs": []
    }
  ]
}