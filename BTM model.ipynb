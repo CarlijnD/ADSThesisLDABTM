{
  "nbformat": 4,
  "nbformat_minor": 0,
  "metadata": {
    "colab": {
      "provenance": []
    },
    "kernelspec": {
      "name": "python3",
      "display_name": "Python 3"
    },
    "language_info": {
      "name": "python"
    }
  },
  "cells": [
    {
      "cell_type": "markdown",
      "source": [
        "Load the data first. Make sure the preprocessing code has run in R and the csv file \"python_data.csv\" is uploaded for use in Python."
      ],
      "metadata": {
        "id": "Bmgvgku9nND9"
      }
    },
    {
      "cell_type": "code",
      "execution_count": null,
      "metadata": {
        "id": "dlXJNpkPyRbb"
      },
      "outputs": [],
      "source": [
        "!pip install bitermplus\n",
        "\n",
        "import bitermplus as btm\n",
        "import numpy as np\n",
        "import pandas as pd\n",
        "import itertools\n",
        "from tabulate import tabulate\n",
        "\n",
        "# Importing data\n",
        "df = pd.read_csv(\n",
        "    'python_data.csv', skiprows=[0], names=['texts'])\n",
        "texts = df['texts'].str.strip().tolist()\n",
        "\n",
        "# Creating the biterms\n",
        "X, vocabulary, vocab_dict = btm.get_words_freqs(texts)\n",
        "docs_vec = btm.get_vectorized_docs(texts, vocabulary)\n",
        "biterms = btm.get_biterms(docs_vec)"
      ]
    },
    {
      "cell_type": "markdown",
      "source": [
        "Running the BTM model with the optimized parameters"
      ],
      "metadata": {
        "id": "Gp8UHLNPnlmX"
      }
    },
    {
      "cell_type": "code",
      "source": [
        "model = btm.BTM(X, vocabulary, seed=920, T=15, M=20, alpha=0.1, beta=0.01)\n",
        "model.fit(biterms, iterations=1000)"
      ],
      "metadata": {
        "id": "KnGvNfTmypSv"
      },
      "execution_count": null,
      "outputs": []
    },
    {
      "cell_type": "markdown",
      "source": [
        "The model with the created topics and the top 10 words printed."
      ],
      "metadata": {
        "id": "tp73W9U4n4u1"
      }
    },
    {
      "cell_type": "code",
      "source": [
        "!pip install tmplot\n",
        "!pip install tomotopy\n",
        "\n",
        "import tomotopy\n",
        "import tmplot as tmp\n",
        "\n",
        "p_zd = model.transform(docs_vec)\n",
        "phi = tmp.get_phi(model)\n",
        "\n",
        "selected_topics = [0, 1, 2, 3, 4, 5, 6, 7, 8, 9, 10, 11, 12, 13, 14]\n",
        "\n",
        "# Create an empty DataFrame to store the top words for the selected topics\n",
        "df_selected_topics = pd.DataFrame()\n",
        "\n",
        "# Iterate over each selected topic\n",
        "for topic in selected_topics:\n",
        "    terms_probs = tmp.calc_terms_probs_ratio(phi, topic=topic, lambda_=0.6)\n",
        "    df = pd.DataFrame(terms_probs)\n",
        "    selected_rows = df[df['Type'] == 'Conditional term probability, p(w|t)']\n",
        "    selected_rows_sorted = selected_rows.sort_values('Probability', ascending=False)\n",
        "\n",
        "    # Add the 'Terms' column for the current topic to the DataFrame\n",
        "    df_selected_topics[f'Topic {topic}'] = selected_rows_sorted['Terms'].head(10).values\n",
        "\n",
        "# Print the DataFrame with the top words for the selected topics\n",
        "print(df_selected_topics)"
      ],
      "metadata": {
        "id": "i-3_oXT_o323"
      },
      "execution_count": null,
      "outputs": []
    },
    {
      "cell_type": "markdown",
      "source": [
        "Visualization of the model:"
      ],
      "metadata": {
        "id": "dVsbZCRTpYvo"
      }
    },
    {
      "cell_type": "code",
      "source": [
        "tmp.report(model=model, docs=texts)\n",
        "\n"
      ],
      "metadata": {
        "id": "3ApOYdndyvWK"
      },
      "execution_count": null,
      "outputs": []
    },
    {
      "cell_type": "markdown",
      "source": [
        "Calculating the coherence score based on the top 5, 10 and 20 words."
      ],
      "metadata": {
        "id": "nkLYkxH7pwxw"
      }
    },
    {
      "cell_type": "code",
      "source": [
        "coherence = btm.coherence(model.matrix_topics_words_, X, M=5)\n",
        "mean_coherence = np.mean(coherence)\n",
        "ci = np.percentile(coherence, [2.5, 97.5])\n",
        "print(mean_coherence)\n",
        "print(ci)\n",
        "\n",
        "coherence = btm.coherence(model.matrix_topics_words_, X, M=10)\n",
        "mean_coherence = np.mean(coherence)\n",
        "ci = np.percentile(coherence, [2.5, 97.5])\n",
        "print(mean_coherence)\n",
        "print(ci)\n",
        "\n",
        "coherence = btm.coherence(model.matrix_topics_words_, X, M=20)\n",
        "mean_coherence = np.mean(coherence)\n",
        "ci = np.percentile(coherence, [2.5, 97.5])\n",
        "print(mean_coherence)\n",
        "print(ci)\n"
      ],
      "metadata": {
        "id": "E-gX6BXf-eWW"
      },
      "execution_count": null,
      "outputs": []
    }
  ]
}